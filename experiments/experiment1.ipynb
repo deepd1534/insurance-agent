{
 "cells": [
  {
   "cell_type": "code",
   "execution_count": 3,
   "metadata": {},
   "outputs": [
    {
     "data": {
      "text/html": [
       "\n",
       "<!-- Load Mermaid.js -->\n",
       "<script type=\"module\">\n",
       "  import mermaid from 'https://cdn.jsdelivr.net/npm/mermaid@10/dist/mermaid.esm.min.mjs';\n",
       "  mermaid.initialize({ startOnLoad: true });\n",
       "</script>\n",
       "\n",
       "<!-- Mermaid container -->\n",
       "<div class=\"mermaid\">\n",
       "graph TD\n",
       "    A[Client Contacts Insurance Agent] --> B[Agent Collects Client Information]\n",
       "    B --> C[Agent Assesses Insurance Needs]\n",
       "    C --> D[Agent Recommends Insurance Plans]\n",
       "    D --> E[Client Selects a Plan]\n",
       "    E --> F[Agent Submits Application to Insurance Company]\n",
       "    F --> G[Insurance Company Approves and Issues Policy]\n",
       "    G --> H[Client Receives Policy Documents]\n",
       "</div>\n"
      ],
      "text/plain": [
       "<IPython.core.display.HTML object>"
      ]
     },
     "execution_count": 3,
     "metadata": {},
     "output_type": "execute_result"
    }
   ],
   "source": [
    "from IPython.display import HTML\n",
    "\n",
    "HTML('''\n",
    "<!-- Load Mermaid.js -->\n",
    "<script type=\"module\">\n",
    "  import mermaid from 'https://cdn.jsdelivr.net/npm/mermaid@10/dist/mermaid.esm.min.mjs';\n",
    "  mermaid.initialize({ startOnLoad: true });\n",
    "</script>\n",
    "\n",
    "<!-- Mermaid container -->\n",
    "<div class=\"mermaid\">\n",
    "graph TD\n",
    "    A[Client Contacts Insurance Agent] --> B[Agent Collects Client Information]\n",
    "    B --> C[Agent Assesses Insurance Needs]\n",
    "    C --> D[Agent Recommends Insurance Plans]\n",
    "    D --> E[Client Selects a Plan]\n",
    "    E --> F[Agent Submits Application to Insurance Company]\n",
    "    F --> G[Insurance Company Approves and Issues Policy]\n",
    "    G --> H[Client Receives Policy Documents]\n",
    "</div>\n",
    "''')\n"
   ]
  },
  {
   "cell_type": "markdown",
   "metadata": {},
   "source": [
    "from IPython.display import HTML\n",
    "\n",
    "HTML('''\n",
    "<!-- Load Mermaid.js -->\n",
    "<script type=\"module\">\n",
    "  import mermaid from 'https://cdn.jsdelivr.net/npm/mermaid@10/dist/mermaid.esm.min.mjs';\n",
    "  mermaid.initialize({ startOnLoad: true });\n",
    "</script>\n",
    "\n",
    "<!-- Mermaid container -->\n",
    "<div class=\"mermaid\">\n",
    "graph TD\n",
    "    A[Client Contacts Insurance Agent] --> B[Agent Collects Client Information]\n",
    "    B --> C[Agent Assesses Insurance Needs]\n",
    "    C --> D[Agent Recommends Insurance Plans]\n",
    "    D --> E[Client Selects a Plan]\n",
    "    E --> F[Agent Submits Application to Insurance Company]\n",
    "    F --> G[Insurance Company Approves and Issues Policy]\n",
    "    G --> H[Client Receives Policy Documents]\n",
    "</div>\n",
    "''')\n"
   ]
  }
 ],
 "metadata": {
  "kernelspec": {
   "display_name": "Python 3",
   "language": "python",
   "name": "python3"
  },
  "language_info": {
   "codemirror_mode": {
    "name": "ipython",
    "version": 3
   },
   "file_extension": ".py",
   "mimetype": "text/x-python",
   "name": "python",
   "nbconvert_exporter": "python",
   "pygments_lexer": "ipython3",
   "version": "3.13.1"
  }
 },
 "nbformat": 4,
 "nbformat_minor": 2
}
